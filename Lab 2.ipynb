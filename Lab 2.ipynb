{
 "cells": [
  {
   "cell_type": "code",
   "execution_count": null,
   "metadata": {},
   "outputs": [],
   "source": [
    "# Importing Necessary Libraries\n",
    "import os\n",
    "import nltk\n",
    "import math\n",
    "import random\n",
    "from collections import Counter\n",
    "from collections import defaultdict\n"
   ]
  },
  {
   "cell_type": "code",
   "execution_count": null,
   "metadata": {},
   "outputs": [],
   "source": [
    "# Tokenizer to keep only Alpha-Numeric Terms  [a-zA-Z0-9_]\n",
    "tokenizer = nltk.RegexpTokenizer(r\"\\w+\")\n",
    "\n",
    "global corpus\n",
    "corpus = {}\n",
    "\n",
    "global index\n",
    "index = defaultdict(list)\n",
    "\n",
    "def PreProcess(data):\n",
    "    data = ' '.join(tokenizer.tokenize(data))\n",
    "    data = data.lower()\n",
    "    return data"
   ]
  },
  {
   "cell_type": "code",
   "execution_count": null,
   "metadata": {},
   "outputs": [],
   "source": [
    "# Function to Calculate Freequency of All Terms in Entire Corpus\n",
    "def term_freq_corpus(corpus):\n",
    "    term_freq_c = Counter({})\n",
    "    for doc in corpus:\n",
    "        term_freq_c += Counter(corpus[doc])\n",
    "    return term_freq_c"
   ]
  },
  {
   "cell_type": "code",
   "execution_count": null,
   "metadata": {},
   "outputs": [],
   "source": [
    "# Function to Calculate TF,IDF Values of a Term\n",
    "def tfidf_val_calc(term,term_indxs_lst,ln_corpus,term_freq_c):\n",
    "    # tf : Term Freequency of Term in Document, rounded off to 8 decimal places\n",
    "    try:\n",
    "        tf = round(((1 + math.log10(len(term_indxs_lst[term])))),8)\n",
    "    except:\n",
    "        tf = 0\n",
    "    # idf : Inverse Document Freequency of Term in Corpus, rounded off to 8 decimal places\n",
    "    try:\n",
    "        idf = round((math.log10(ln_corpus / term_freq_c[term])),8)\n",
    "    except:\n",
    "        idf = 0\n",
    "    return tf,idf"
   ]
  }
 ],
 "metadata": {
  "language_info": {
   "name": "python"
  },
  "orig_nbformat": 4
 },
 "nbformat": 4,
 "nbformat_minor": 2
}
