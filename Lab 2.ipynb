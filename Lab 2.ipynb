{
 "cells": [
  {
   "cell_type": "code",
   "execution_count": null,
   "metadata": {},
   "outputs": [],
   "source": [
    "# Importing Necessary Libraries\n",
    "import os\n",
    "import nltk\n",
    "import math\n",
    "import random\n",
    "from collections import Counter\n",
    "from collections import defaultdict\n"
   ]
  },
  {
   "cell_type": "code",
   "execution_count": null,
   "metadata": {},
   "outputs": [],
   "source": [
    "# Tokenizer to keep only Alpha-Numeric Terms  [a-zA-Z0-9_]\n",
    "tokenizer = nltk.RegexpTokenizer(r\"\\w+\")\n",
    "\n",
    "global corpus\n",
    "corpus = {}\n",
    "\n",
    "global index\n",
    "index = defaultdict(list)\n",
    "\n",
    "def PreProcess(data):\n",
    "    data = ' '.join(tokenizer.tokenize(data))\n",
    "    data = data.lower()\n",
    "    return data"
   ]
  }
 ],
 "metadata": {
  "language_info": {
   "name": "python"
  },
  "orig_nbformat": 4
 },
 "nbformat": 4,
 "nbformat_minor": 2
}
